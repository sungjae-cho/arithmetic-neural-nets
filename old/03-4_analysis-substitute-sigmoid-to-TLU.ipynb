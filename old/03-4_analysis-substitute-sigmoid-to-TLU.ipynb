{
 "cells": [
  {
   "cell_type": "code",
   "execution_count": 1,
   "metadata": {},
   "outputs": [],
   "source": [
    "import tensorflow as tf\n",
    "import numpy as np\n",
    "import utils"
   ]
  },
  {
   "cell_type": "code",
   "execution_count": 2,
   "metadata": {},
   "outputs": [],
   "source": [
    "operator = 'add'\n",
    "(input_train, input_dev, input_test, \n",
    "           target_train, target_dev, target_test) = utils.import_data(operator)"
   ]
  },
  {
   "cell_type": "code",
   "execution_count": 3,
   "metadata": {},
   "outputs": [],
   "source": [
    "# If the training dataset takes all examples, then the dev and test datasets are the same as the training one. \n",
    "if input_dev.shape[0] == 0:\n",
    "    input_dev = input_train\n",
    "    target_dev = target_train\n",
    "    input_test = input_train\n",
    "    target_test = target_train"
   ]
  },
  {
   "cell_type": "code",
   "execution_count": 4,
   "metadata": {},
   "outputs": [
    {
     "name": "stdout",
     "output_type": "stream",
     "text": [
      "(65536, 16)\n",
      "(65536, 16)\n",
      "(65536, 16)\n",
      "(65536, 9)\n",
      "(65536, 9)\n",
      "(65536, 9)\n"
     ]
    }
   ],
   "source": [
    "print(input_train.shape)\n",
    "print(input_dev.shape)\n",
    "print(input_test.shape)\n",
    "print(target_train.shape)\n",
    "print(target_dev.shape)\n",
    "print(target_test.shape)"
   ]
  },
  {
   "cell_type": "code",
   "execution_count": 5,
   "metadata": {},
   "outputs": [],
   "source": [
    "run_id = '20181001180511'\n",
    "operation = 'add'\n",
    "\n",
    "parameters = utils.import_parameters(run_id, operation)\n",
    "\n",
    "w1_value = parameters['h1/kernel']\n",
    "b1_value = parameters['h1/bias']\n",
    "b1_value = b1_value.reshape((-1, b1_value.shape[0]))\n",
    "\n",
    "w2_value = parameters['last_logits/kernel']\n",
    "b2_value = parameters['last_logits/bias']\n",
    "b2_value = b2_value.reshape((-1, b2_value.shape[0]))"
   ]
  },
  {
   "cell_type": "code",
   "execution_count": 6,
   "metadata": {},
   "outputs": [],
   "source": [
    "def test_graph(str_activation_function):\n",
    "    '''\n",
    "    str_activation_function: 'sigmoid', 'tlu'\n",
    "    '''    \n",
    "    w1 = tf.Variable(w1_value)\n",
    "    b1 = tf.Variable(b1_value)\n",
    "    w2 = tf.Variable(w2_value)\n",
    "    b2 = tf.Variable(b2_value)\n",
    "\n",
    "    inputs = tf.placeholder(tf.float32, shape=(None, input_train.shape[1]), name='inputs') # None for mini-batch size\n",
    "    targets = tf.placeholder(tf.float32, shape=(None, target_train.shape[1]), name='targets')\n",
    "\n",
    "    if str_activation_function == 'tlu':\n",
    "        h1          = utils.tf_tlu(tf.matmul(inputs, w1) + b1)\n",
    "        predictions = utils.tf_tlu(tf.matmul(h1, w2) + b2)\n",
    "\n",
    "    if str_activation_function == 'sigmoid':\n",
    "        h1          = tf.sigmoid(tf.matmul(inputs, w1) + b1)\n",
    "        predictions = utils.tf_tlu(tf.sigmoid(tf.matmul(h1, w2) + b2))\n",
    "\n",
    "    # Accuracy\n",
    "    (accuracy, n_wrong, n_correct) = utils.get_measures(targets, predictions)\n",
    "    \n",
    "    # Run area #########################\n",
    "    \n",
    "    config = tf.ConfigProto()\n",
    "    config.gpu_options.allow_growth = True\n",
    "\n",
    "    init = tf.global_variables_initializer()\n",
    "    \n",
    "    with tf.Session(config=config) as sess:\n",
    "        sess.run(init)\n",
    "\n",
    "        # Run computing test loss, accuracy\n",
    "        accuracy_value,  n_wrong_value, predictions_value = sess.run(\n",
    "            [accuracy, n_wrong, predictions],\n",
    "            feed_dict={inputs:input_test, targets:target_test})\n",
    "        \n",
    "    \n",
    "    return (accuracy_value, n_wrong_value)"
   ]
  },
  {
   "cell_type": "code",
   "execution_count": 7,
   "metadata": {},
   "outputs": [
    {
     "name": "stdout",
     "output_type": "stream",
     "text": [
      "accuracy: 1.0, n_wrong_value: 0\n"
     ]
    }
   ],
   "source": [
    "(accuracy_value, n_wrong_value) =  test_graph('sigmoid')\n",
    "print('accuracy: {}, n_wrong_value: {}'.format(accuracy_value, n_wrong_value))"
   ]
  },
  {
   "cell_type": "code",
   "execution_count": 8,
   "metadata": {},
   "outputs": [
    {
     "name": "stdout",
     "output_type": "stream",
     "text": [
      "accuracy: 0.8299407958984375, n_wrong_value: 11145\n"
     ]
    }
   ],
   "source": [
    "(accuracy_value, n_wrong_value) =  test_graph('tlu')\n",
    "print('accuracy: {}, n_wrong_value: {}'.format(accuracy_value, n_wrong_value))"
   ]
  }
 ],
 "metadata": {
  "kernelspec": {
   "display_name": "Python 3",
   "language": "python",
   "name": "python3"
  },
  "language_info": {
   "codemirror_mode": {
    "name": "ipython",
    "version": 3
   },
   "file_extension": ".py",
   "mimetype": "text/x-python",
   "name": "python",
   "nbconvert_exporter": "python",
   "pygments_lexer": "ipython3",
   "version": "3.5.2"
  }
 },
 "nbformat": 4,
 "nbformat_minor": 2
}
