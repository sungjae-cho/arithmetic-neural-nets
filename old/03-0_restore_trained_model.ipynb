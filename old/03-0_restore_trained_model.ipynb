{
 "cells": [
  {
   "cell_type": "code",
   "execution_count": 1,
   "metadata": {},
   "outputs": [],
   "source": [
    "import tensorflow as tf"
   ]
  },
  {
   "cell_type": "code",
   "execution_count": 2,
   "metadata": {},
   "outputs": [
    {
     "name": "stdout",
     "output_type": "stream",
     "text": [
      "INFO:tensorflow:Restoring parameters from saved_models/20180815180530/20180815180530-fnn-sigm-24-adam-lr0.001000-bs32-epoch1376-testacc1.000.ckpt\n"
     ]
    },
    {
     "ename": "NameError",
     "evalue": "name 'loss' is not defined",
     "output_type": "error",
     "traceback": [
      "\u001b[0;31m---------------------------------------------------------------------------\u001b[0m",
      "\u001b[0;31mNameError\u001b[0m                                 Traceback (most recent call last)",
      "\u001b[0;32m<ipython-input-2-22bc34fb9d0b>\u001b[0m in \u001b[0;36m<module>\u001b[0;34m()\u001b[0m\n\u001b[1;32m     14\u001b[0m     \u001b[0;31m# Run computing test loss, accuracy\u001b[0m\u001b[0;34m\u001b[0m\u001b[0;34m\u001b[0m\u001b[0m\n\u001b[1;32m     15\u001b[0m     test_loss, summary, test_accuracy = sess.run(\n\u001b[0;32m---> 16\u001b[0;31m         \u001b[0;34m[\u001b[0m\u001b[0mloss\u001b[0m\u001b[0;34m,\u001b[0m \u001b[0mmerged_summary_op\u001b[0m\u001b[0;34m,\u001b[0m \u001b[0maccuracy\u001b[0m\u001b[0;34m]\u001b[0m\u001b[0;34m,\u001b[0m\u001b[0;34m\u001b[0m\u001b[0m\n\u001b[0m\u001b[1;32m     17\u001b[0m         feed_dict={inputs:input_dev, targets:output_dev})\n\u001b[1;32m     18\u001b[0m \u001b[0;34m\u001b[0m\u001b[0m\n",
      "\u001b[0;31mNameError\u001b[0m: name 'loss' is not defined"
     ]
    }
   ],
   "source": [
    "dir_saved_model = 'saved_models'\n",
    "model_id = '20180815180530'\n",
    "model_to_import = '{}/{}-fnn-sigm-24-adam-lr0.001000-bs32-epoch1376-testacc1.000.ckpt'.format(model_id, model_id)\n",
    "\n",
    "saver = tf.train.import_meta_graph('{}/{}.meta'.format(dir_saved_model, model_to_import))\n",
    "\n",
    "config = tf.ConfigProto()\n",
    "config.gpu_options.allow_growth = True\n",
    "\n",
    "with tf.Session(config=config) as sess:\n",
    "    saver.restore(sess, '{}/{}'.format(dir_saved_model, model_to_import))\n",
    "    \n",
    "    # End of all epochs \n",
    "    # Run computing test loss, accuracy\n",
    "    test_loss, summary, test_accuracy = sess.run(\n",
    "        [loss, merged_summary_op, accuracy],\n",
    "        feed_dict={inputs:input_dev, targets:output_dev})\n",
    "    \n",
    "    print(\"└ epoch: {}, step: {}, test_loss: {}, test_accuracy: {}\".format(epoch, step, test_loss, test_accuracy))\n",
    "    model_name = utils.get_fnn_model_name(activation, layer_dims, str_optimizer, \n",
    "                                          learning_rate, batch_size, 'test', test_accuracy)\n",
    "    model_saver.save(sess, '{}/{}.ckpt'.format(dir_saved_models, model_name))\n",
    "    print(\"Model saved.\")"
   ]
  }
 ],
 "metadata": {
  "kernelspec": {
   "display_name": "Python 3",
   "language": "python",
   "name": "python3"
  },
  "language_info": {
   "codemirror_mode": {
    "name": "ipython",
    "version": 3
   },
   "file_extension": ".py",
   "mimetype": "text/x-python",
   "name": "python",
   "nbconvert_exporter": "python",
   "pygments_lexer": "ipython3",
   "version": "3.5.2"
  }
 },
 "nbformat": 4,
 "nbformat_minor": 2
}
