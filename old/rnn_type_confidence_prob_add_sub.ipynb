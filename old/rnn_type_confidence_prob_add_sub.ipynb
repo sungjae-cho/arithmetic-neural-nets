{
 "cells": [
  {
   "cell_type": "code",
   "execution_count": 1,
   "metadata": {},
   "outputs": [],
   "source": [
    "import run_info_utils"
   ]
  },
  {
   "cell_type": "code",
   "execution_count": 2,
   "metadata": {},
   "outputs": [],
   "source": [
    "df = run_info_utils.get_df_run_info()"
   ]
  },
  {
   "cell_type": "code",
   "execution_count": 3,
   "metadata": {},
   "outputs": [
    {
     "data": {
      "text/html": [
       "<div>\n",
       "<style scoped>\n",
       "    .dataframe tbody tr th:only-of-type {\n",
       "        vertical-align: middle;\n",
       "    }\n",
       "\n",
       "    .dataframe tbody tr th {\n",
       "        vertical-align: top;\n",
       "    }\n",
       "\n",
       "    .dataframe thead th {\n",
       "        text-align: right;\n",
       "    }\n",
       "</style>\n",
       "<table border=\"1\" class=\"dataframe\">\n",
       "  <thead>\n",
       "    <tr style=\"text-align: right;\">\n",
       "      <th></th>\n",
       "      <th>all_correct_stop</th>\n",
       "      <th>batch_size</th>\n",
       "      <th>confidence_prob</th>\n",
       "      <th>dev_set_size</th>\n",
       "      <th>dev_set_size/carry-0</th>\n",
       "      <th>dev_set_size/carry-1</th>\n",
       "      <th>dev_set_size/carry-2</th>\n",
       "      <th>dev_set_size/carry-3</th>\n",
       "      <th>dev_set_size/carry-4</th>\n",
       "      <th>experiment_name</th>\n",
       "      <th>...</th>\n",
       "      <th>test_set_size/carry-2</th>\n",
       "      <th>test_set_size/carry-3</th>\n",
       "      <th>test_set_size/carry-4</th>\n",
       "      <th>train_dev_test_ratio</th>\n",
       "      <th>train_set_size</th>\n",
       "      <th>train_set_size/carry-0</th>\n",
       "      <th>train_set_size/carry-1</th>\n",
       "      <th>train_set_size/carry-2</th>\n",
       "      <th>train_set_size/carry-3</th>\n",
       "      <th>train_set_size/carry-4</th>\n",
       "    </tr>\n",
       "  </thead>\n",
       "  <tbody>\n",
       "    <tr>\n",
       "      <th>0</th>\n",
       "      <td>True</td>\n",
       "      <td>32</td>\n",
       "      <td>0.8</td>\n",
       "      <td>50</td>\n",
       "      <td>16.0</td>\n",
       "      <td>11.0</td>\n",
       "      <td>10.0</td>\n",
       "      <td>8.0</td>\n",
       "      <td>5.0</td>\n",
       "      <td>test</td>\n",
       "      <td>...</td>\n",
       "      <td>11.0</td>\n",
       "      <td>9.0</td>\n",
       "      <td>6.0</td>\n",
       "      <td>(0.6, 0.2, 0.2)</td>\n",
       "      <td>152</td>\n",
       "      <td>48.0</td>\n",
       "      <td>32.0</td>\n",
       "      <td>31.0</td>\n",
       "      <td>25.0</td>\n",
       "      <td>16.0</td>\n",
       "    </tr>\n",
       "    <tr>\n",
       "      <th>1</th>\n",
       "      <td>True</td>\n",
       "      <td>32</td>\n",
       "      <td>NaN</td>\n",
       "      <td>136</td>\n",
       "      <td>NaN</td>\n",
       "      <td>NaN</td>\n",
       "      <td>NaN</td>\n",
       "      <td>NaN</td>\n",
       "      <td>NaN</td>\n",
       "      <td>test_h1_record</td>\n",
       "      <td>...</td>\n",
       "      <td>NaN</td>\n",
       "      <td>NaN</td>\n",
       "      <td>NaN</td>\n",
       "      <td>NaN</td>\n",
       "      <td>136</td>\n",
       "      <td>NaN</td>\n",
       "      <td>NaN</td>\n",
       "      <td>NaN</td>\n",
       "      <td>NaN</td>\n",
       "      <td>NaN</td>\n",
       "    </tr>\n",
       "    <tr>\n",
       "      <th>2</th>\n",
       "      <td>True</td>\n",
       "      <td>32</td>\n",
       "      <td>NaN</td>\n",
       "      <td>256</td>\n",
       "      <td>NaN</td>\n",
       "      <td>NaN</td>\n",
       "      <td>NaN</td>\n",
       "      <td>NaN</td>\n",
       "      <td>NaN</td>\n",
       "      <td>test_h1_record</td>\n",
       "      <td>...</td>\n",
       "      <td>NaN</td>\n",
       "      <td>NaN</td>\n",
       "      <td>NaN</td>\n",
       "      <td>NaN</td>\n",
       "      <td>256</td>\n",
       "      <td>NaN</td>\n",
       "      <td>NaN</td>\n",
       "      <td>NaN</td>\n",
       "      <td>NaN</td>\n",
       "      <td>NaN</td>\n",
       "    </tr>\n",
       "    <tr>\n",
       "      <th>3</th>\n",
       "      <td>True</td>\n",
       "      <td>32</td>\n",
       "      <td>NaN</td>\n",
       "      <td>240</td>\n",
       "      <td>NaN</td>\n",
       "      <td>NaN</td>\n",
       "      <td>NaN</td>\n",
       "      <td>NaN</td>\n",
       "      <td>NaN</td>\n",
       "      <td>test_h1_record</td>\n",
       "      <td>...</td>\n",
       "      <td>NaN</td>\n",
       "      <td>NaN</td>\n",
       "      <td>NaN</td>\n",
       "      <td>NaN</td>\n",
       "      <td>240</td>\n",
       "      <td>NaN</td>\n",
       "      <td>NaN</td>\n",
       "      <td>NaN</td>\n",
       "      <td>NaN</td>\n",
       "      <td>NaN</td>\n",
       "    </tr>\n",
       "    <tr>\n",
       "      <th>4</th>\n",
       "      <td>True</td>\n",
       "      <td>32</td>\n",
       "      <td>NaN</td>\n",
       "      <td>240</td>\n",
       "      <td>NaN</td>\n",
       "      <td>NaN</td>\n",
       "      <td>NaN</td>\n",
       "      <td>NaN</td>\n",
       "      <td>NaN</td>\n",
       "      <td>test_h1_record</td>\n",
       "      <td>...</td>\n",
       "      <td>NaN</td>\n",
       "      <td>NaN</td>\n",
       "      <td>NaN</td>\n",
       "      <td>NaN</td>\n",
       "      <td>240</td>\n",
       "      <td>NaN</td>\n",
       "      <td>NaN</td>\n",
       "      <td>NaN</td>\n",
       "      <td>NaN</td>\n",
       "      <td>NaN</td>\n",
       "    </tr>\n",
       "  </tbody>\n",
       "</table>\n",
       "<p>5 rows × 141 columns</p>\n",
       "</div>"
      ],
      "text/plain": [
       "   all_correct_stop  batch_size  confidence_prob  dev_set_size  \\\n",
       "0              True          32              0.8            50   \n",
       "1              True          32              NaN           136   \n",
       "2              True          32              NaN           256   \n",
       "3              True          32              NaN           240   \n",
       "4              True          32              NaN           240   \n",
       "\n",
       "   dev_set_size/carry-0  dev_set_size/carry-1  dev_set_size/carry-2  \\\n",
       "0                  16.0                  11.0                  10.0   \n",
       "1                   NaN                   NaN                   NaN   \n",
       "2                   NaN                   NaN                   NaN   \n",
       "3                   NaN                   NaN                   NaN   \n",
       "4                   NaN                   NaN                   NaN   \n",
       "\n",
       "   dev_set_size/carry-3  dev_set_size/carry-4 experiment_name  \\\n",
       "0                   8.0                   5.0            test   \n",
       "1                   NaN                   NaN  test_h1_record   \n",
       "2                   NaN                   NaN  test_h1_record   \n",
       "3                   NaN                   NaN  test_h1_record   \n",
       "4                   NaN                   NaN  test_h1_record   \n",
       "\n",
       "            ...           test_set_size/carry-2 test_set_size/carry-3  \\\n",
       "0           ...                            11.0                   9.0   \n",
       "1           ...                             NaN                   NaN   \n",
       "2           ...                             NaN                   NaN   \n",
       "3           ...                             NaN                   NaN   \n",
       "4           ...                             NaN                   NaN   \n",
       "\n",
       "   test_set_size/carry-4  train_dev_test_ratio  train_set_size  \\\n",
       "0                    6.0       (0.6, 0.2, 0.2)             152   \n",
       "1                    NaN                   NaN             136   \n",
       "2                    NaN                   NaN             256   \n",
       "3                    NaN                   NaN             240   \n",
       "4                    NaN                   NaN             240   \n",
       "\n",
       "   train_set_size/carry-0  train_set_size/carry-1  train_set_size/carry-2  \\\n",
       "0                    48.0                    32.0                    31.0   \n",
       "1                     NaN                     NaN                     NaN   \n",
       "2                     NaN                     NaN                     NaN   \n",
       "3                     NaN                     NaN                     NaN   \n",
       "4                     NaN                     NaN                     NaN   \n",
       "\n",
       "   train_set_size/carry-3  train_set_size/carry-4  \n",
       "0                    25.0                    16.0  \n",
       "1                     NaN                     NaN  \n",
       "2                     NaN                     NaN  \n",
       "3                     NaN                     NaN  \n",
       "4                     NaN                     NaN  \n",
       "\n",
       "[5 rows x 141 columns]"
      ]
     },
     "execution_count": 3,
     "metadata": {},
     "output_type": "execute_result"
    }
   ],
   "source": [
    "df.head()"
   ]
  },
  {
   "cell_type": "code",
   "execution_count": 4,
   "metadata": {},
   "outputs": [
    {
     "name": "stdout",
     "output_type": "stream",
     "text": [
      "['all_correct_stop', 'batch_size', 'confidence_prob', 'dev_set_size', 'dev_set_size/carry-0', 'dev_set_size/carry-1', 'dev_set_size/carry-2', 'dev_set_size/carry-3', 'dev_set_size/carry-4', 'experiment_name', 'hidden_activation', 'hidden_dimensions', 'init_all_correct_carry-0_epoch', 'init_all_correct_carry-12_epoch', 'init_all_correct_carry-1_epoch', 'init_all_correct_carry-2_epoch', 'init_all_correct_carry-3_epoch', 'init_all_correct_carry-4_epoch', 'init_all_correct_carry-5_epoch', 'init_all_correct_carry-6_epoch', 'init_all_correct_carry-8_epoch', 'init_all_correct_digit-1_epoch', 'init_all_correct_digit-2_epoch', 'init_all_correct_digit-3_epoch', 'init_all_correct_digit-4_epoch', 'init_all_correct_digit-5_epoch', 'init_all_correct_digit-6_epoch', 'init_all_correct_digit-7_epoch', 'init_all_correct_digit-8_epoch', 'init_all_correct_epoch', 'init_complete_all_correct_carry-0_epoch', 'init_complete_all_correct_carry-12_epoch', 'init_complete_all_correct_carry-1_epoch', 'init_complete_all_correct_carry-2_epoch', 'init_complete_all_correct_carry-3_epoch', 'init_complete_all_correct_carry-4_epoch', 'init_complete_all_correct_carry-5_epoch', 'init_complete_all_correct_carry-6_epoch', 'init_complete_all_correct_carry-8_epoch', 'init_complete_all_correct_digit-1_epoch', 'init_complete_all_correct_digit-2_epoch', 'init_complete_all_correct_digit-3_epoch', 'init_complete_all_correct_digit-4_epoch', 'init_complete_all_correct_digit-5_epoch', 'init_complete_all_correct_digit-6_epoch', 'init_complete_all_correct_digit-7_epoch', 'init_complete_all_correct_digit-8_epoch', 'last_carry-0_accuracy', 'last_carry-0_max_answer_step', 'last_carry-0_mean_answer_step', 'last_carry-0_min_answer_step', 'last_carry-0_wrong', 'last_carry-12_accuracy', 'last_carry-12_max_answer_step', 'last_carry-12_mean_answer_step', 'last_carry-12_min_answer_step', 'last_carry-12_wrong', 'last_carry-1_accuracy', 'last_carry-1_max_answer_step', 'last_carry-1_mean_answer_step', 'last_carry-1_min_answer_step', 'last_carry-1_wrong', 'last_carry-2_accuracy', 'last_carry-2_max_answer_step', 'last_carry-2_mean_answer_step', 'last_carry-2_min_answer_step', 'last_carry-2_wrong', 'last_carry-3_accuracy', 'last_carry-3_max_answer_step', 'last_carry-3_mean_answer_step', 'last_carry-3_min_answer_step', 'last_carry-3_wrong', 'last_carry-4_accuracy', 'last_carry-4_max_answer_step', 'last_carry-4_mean_answer_step', 'last_carry-4_min_answer_step', 'last_carry-4_wrong', 'last_carry-5_accuracy', 'last_carry-5_max_answer_step', 'last_carry-5_mean_answer_step', 'last_carry-5_min_answer_step', 'last_carry-5_wrong', 'last_carry-6_accuracy', 'last_carry-6_max_answer_step', 'last_carry-6_mean_answer_step', 'last_carry-6_min_answer_step', 'last_carry-6_wrong', 'last_carry-8_accuracy', 'last_carry-8_max_answer_step', 'last_carry-8_mean_answer_step', 'last_carry-8_min_answer_step', 'last_carry-8_wrong', 'last_digit-1_accuracy', 'last_digit-1_wrong', 'last_digit-2_accuracy', 'last_digit-2_wrong', 'last_digit-3_accuracy', 'last_digit-3_wrong', 'last_digit-4_accuracy', 'last_digit-4_wrong', 'last_digit-5_accuracy', 'last_digit-5_wrong', 'last_digit-6_accuracy', 'last_digit-6_wrong', 'last_digit-7_accuracy', 'last_digit-7_wrong', 'last_digit-8_accuracy', 'last_digit-8_wrong', 'last_epoch', 'last_test_accuracy', 'last_test_loss', 'last_test_max_answer_step', 'last_test_mean_answer_step', 'last_test_min_answer_step', 'last_test_op_wrong', 'last_tlu_op_wrong', 'last_tlu_test_accuracy', 'last_tlu_test_loss', 'learning_rate', 'network_input_dimension', 'network_output_dimension', 'nn_model_type', 'operand_bits', 'operator', 'optimizer', 'result_bits', 'rnn_type', 'run_id', 'test_set_size', 'test_set_size/carry-0', 'test_set_size/carry-1', 'test_set_size/carry-2', 'test_set_size/carry-3', 'test_set_size/carry-4', 'train_dev_test_ratio', 'train_set_size', 'train_set_size/carry-0', 'train_set_size/carry-1', 'train_set_size/carry-2', 'train_set_size/carry-3', 'train_set_size/carry-4']\n"
     ]
    }
   ],
   "source": [
    "print(list(df.columns))"
   ]
  },
  {
   "cell_type": "code",
   "execution_count": 5,
   "metadata": {},
   "outputs": [],
   "source": [
    "df = df.loc[df['experiment_name'] == 'rnn_type_confidence_prob_add_sub']\n",
    "\n",
    "cols = ['operator', 'rnn_type', 'confidence_prob', 'operand_bits',\n",
    "'last_carry-0_mean_answer_step', \n",
    "'last_carry-1_mean_answer_step', \n",
    "'last_carry-2_mean_answer_step', \n",
    "'last_carry-3_mean_answer_step', \n",
    "'last_carry-4_mean_answer_step', \n",
    "'last_test_mean_answer_step']\n",
    "'''cols = ['operator', 'rnn_type', 'confidence_prob', \n",
    "'last_carry-0_max_answer_step', 'last_carry-0_mean_answer_step', 'last_carry-0_min_answer_step',\n",
    "'last_carry-1_max_answer_step', 'last_carry-1_mean_answer_step', 'last_carry-1_min_answer_step',\n",
    "'last_carry-2_max_answer_step', 'last_carry-2_mean_answer_step', 'last_carry-2_min_answer_step',\n",
    "'last_carry-3_max_answer_step', 'last_carry-3_mean_answer_step', 'last_carry-3_min_answer_step',\n",
    "'last_carry-4_max_answer_step', 'last_carry-4_mean_answer_step', 'last_carry-4_min_answer_step',\n",
    "'last_test_max_answer_step', 'last_test_mean_answer_step', 'last_test_min_answer_step']'''\n",
    "df = df[cols]"
   ]
  },
  {
   "cell_type": "code",
   "execution_count": 6,
   "metadata": {},
   "outputs": [
    {
     "data": {
      "text/plain": [
       "(356, 10)"
      ]
     },
     "execution_count": 6,
     "metadata": {},
     "output_type": "execute_result"
    }
   ],
   "source": [
    "df.shape"
   ]
  },
  {
   "cell_type": "code",
   "execution_count": 7,
   "metadata": {},
   "outputs": [],
   "source": [
    "df_add_elman_7 = df.query('operator == \"add\"').query('rnn_type == \"elman\"').query('confidence_prob == 0.7')\n",
    "df_add_elman_8 = df.query('operator == \"add\"').query('rnn_type == \"elman\"').query('confidence_prob == 0.8')\n",
    "df_add_elman_9 = df.query('operator == \"add\"').query('rnn_type == \"elman\"').query('confidence_prob == 0.9')\n",
    "df_sub_elman_7 = df.query('operator == \"subtract\"').query('rnn_type == \"elman\"').query('confidence_prob == 0.7')\n",
    "df_sub_elman_8 = df.query('operator == \"subtract\"').query('rnn_type == \"elman\"').query('confidence_prob == 0.8')\n",
    "df_sub_elman_9 = df.query('operator == \"subtract\"').query('rnn_type == \"elman\"').query('confidence_prob == 0.9')\n",
    "df_add_jordan_7 = df.query('operator == \"add\"').query('rnn_type == \"jordan\"').query('confidence_prob == 0.7')\n",
    "df_add_jordan_8 = df.query('operator == \"add\"').query('rnn_type == \"jordan\"').query('confidence_prob == 0.8')\n",
    "df_add_jordan_9 = df.query('operator == \"add\"').query('rnn_type == \"jordan\"').query('confidence_prob == 0.9')\n",
    "df_sub_jordan_7 = df.query('operator == \"subtract\"').query('rnn_type == \"jordan\"').query('confidence_prob == 0.7')\n",
    "df_sub_jordan_8 = df.query('operator == \"subtract\"').query('rnn_type == \"jordan\"').query('confidence_prob == 0.8')\n",
    "df_sub_jordan_9 = df.query('operator == \"subtract\"').query('rnn_type == \"jordan\"').query('confidence_prob == 0.9')"
   ]
  },
  {
   "cell_type": "code",
   "execution_count": 8,
   "metadata": {},
   "outputs": [
    {
     "name": "stdout",
     "output_type": "stream",
     "text": [
      "(29, 10)\n",
      "(30, 10)\n",
      "(30, 10)\n",
      "(30, 10)\n",
      "(30, 10)\n",
      "(30, 10)\n",
      "(28, 10)\n",
      "(29, 10)\n",
      "(30, 10)\n",
      "(30, 10)\n",
      "(30, 10)\n",
      "(30, 10)\n"
     ]
    }
   ],
   "source": [
    "print(df_add_elman_7.shape)\n",
    "print(df_add_elman_8.shape)\n",
    "print(df_add_elman_9.shape)\n",
    "print(df_sub_elman_7.shape)\n",
    "print(df_sub_elman_8.shape)\n",
    "print(df_sub_elman_9.shape)\n",
    "print(df_add_jordan_7.shape)\n",
    "print(df_add_jordan_8.shape)\n",
    "print(df_add_jordan_9.shape)\n",
    "print(df_sub_jordan_7.shape)\n",
    "print(df_sub_jordan_8.shape)\n",
    "print(df_sub_jordan_9.shape)"
   ]
  },
  {
   "cell_type": "markdown",
   "metadata": {},
   "source": [
    "# Result"
   ]
  },
  {
   "cell_type": "code",
   "execution_count": 9,
   "metadata": {},
   "outputs": [
    {
     "data": {
      "text/plain": [
       "confidence_prob                  0.700000\n",
       "operand_bits                     4.000000\n",
       "last_carry-0_mean_answer_step    0.869732\n",
       "last_carry-1_mean_answer_step    1.017880\n",
       "last_carry-2_mean_answer_step    1.364721\n",
       "last_carry-3_mean_answer_step    1.576355\n",
       "last_carry-4_mean_answer_step    1.759898\n",
       "last_test_mean_answer_step       1.211342\n",
       "dtype: float64"
      ]
     },
     "execution_count": 9,
     "metadata": {},
     "output_type": "execute_result"
    }
   ],
   "source": [
    "df_add_elman_7.mean()"
   ]
  },
  {
   "cell_type": "code",
   "execution_count": 10,
   "metadata": {},
   "outputs": [
    {
     "data": {
      "text/plain": [
       "confidence_prob                  0.700000\n",
       "operand_bits                     4.000000\n",
       "last_carry-0_mean_answer_step    0.353175\n",
       "last_carry-1_mean_answer_step    0.591931\n",
       "last_carry-2_mean_answer_step    0.771978\n",
       "last_carry-3_mean_answer_step    0.980442\n",
       "last_carry-4_mean_answer_step    1.148148\n",
       "last_test_mean_answer_step       0.675363\n",
       "dtype: float64"
      ]
     },
     "execution_count": 10,
     "metadata": {},
     "output_type": "execute_result"
    }
   ],
   "source": [
    "df_add_jordan_7.mean()"
   ]
  },
  {
   "cell_type": "code",
   "execution_count": 11,
   "metadata": {},
   "outputs": [
    {
     "data": {
      "text/plain": [
       "confidence_prob                  0.800000\n",
       "operand_bits                     4.000000\n",
       "last_carry-0_mean_answer_step    2.376955\n",
       "last_carry-1_mean_answer_step    2.832716\n",
       "last_carry-2_mean_answer_step    3.426282\n",
       "last_carry-3_mean_answer_step    4.173810\n",
       "last_carry-4_mean_answer_step    4.998765\n",
       "last_test_mean_answer_step       3.257552\n",
       "dtype: float64"
      ]
     },
     "execution_count": 11,
     "metadata": {},
     "output_type": "execute_result"
    }
   ],
   "source": [
    "df_add_elman_8.mean()"
   ]
  },
  {
   "cell_type": "code",
   "execution_count": 12,
   "metadata": {},
   "outputs": [
    {
     "data": {
      "text/plain": [
       "confidence_prob                  0.800000\n",
       "operand_bits                     4.000000\n",
       "last_carry-0_mean_answer_step    0.908046\n",
       "last_carry-1_mean_answer_step    1.266284\n",
       "last_carry-2_mean_answer_step    2.169098\n",
       "last_carry-3_mean_answer_step    3.256158\n",
       "last_carry-4_mean_answer_step    3.616858\n",
       "last_test_mean_answer_step       1.910695\n",
       "dtype: float64"
      ]
     },
     "execution_count": 12,
     "metadata": {},
     "output_type": "execute_result"
    }
   ],
   "source": [
    "df_add_jordan_8.mean()"
   ]
  },
  {
   "cell_type": "code",
   "execution_count": 13,
   "metadata": {},
   "outputs": [
    {
     "data": {
      "text/plain": [
       "confidence_prob                   0.900000\n",
       "operand_bits                      4.000000\n",
       "last_carry-0_mean_answer_step    11.792593\n",
       "last_carry-1_mean_answer_step    13.171605\n",
       "last_carry-2_mean_answer_step    13.765385\n",
       "last_carry-3_mean_answer_step    14.280159\n",
       "last_carry-4_mean_answer_step    14.920988\n",
       "last_test_mean_answer_step       13.222266\n",
       "dtype: float64"
      ]
     },
     "execution_count": 13,
     "metadata": {},
     "output_type": "execute_result"
    }
   ],
   "source": [
    "df_add_elman_9.mean()"
   ]
  },
  {
   "cell_type": "code",
   "execution_count": 14,
   "metadata": {},
   "outputs": [
    {
     "data": {
      "text/plain": [
       "confidence_prob                   0.900000\n",
       "operand_bits                      4.000000\n",
       "last_carry-0_mean_answer_step     2.076132\n",
       "last_carry-1_mean_answer_step     3.615432\n",
       "last_carry-2_mean_answer_step     6.301282\n",
       "last_carry-3_mean_answer_step     9.611905\n",
       "last_carry-4_mean_answer_step    12.554321\n",
       "last_test_mean_answer_step        5.600521\n",
       "dtype: float64"
      ]
     },
     "execution_count": 14,
     "metadata": {},
     "output_type": "execute_result"
    }
   ],
   "source": [
    "df_add_jordan_9.mean()"
   ]
  },
  {
   "cell_type": "code",
   "execution_count": 15,
   "metadata": {},
   "outputs": [
    {
     "data": {
      "text/plain": [
       "confidence_prob                  0.700000\n",
       "operand_bits                     4.000000\n",
       "last_carry-0_mean_answer_step    1.119753\n",
       "last_carry-1_mean_answer_step    1.751852\n",
       "last_carry-2_mean_answer_step    2.131579\n",
       "last_carry-3_mean_answer_step    2.677778\n",
       "last_carry-4_mean_answer_step         NaN\n",
       "last_test_mean_answer_step       1.489706\n",
       "dtype: float64"
      ]
     },
     "execution_count": 15,
     "metadata": {},
     "output_type": "execute_result"
    }
   ],
   "source": [
    "df_sub_elman_7.mean()"
   ]
  },
  {
   "cell_type": "code",
   "execution_count": 16,
   "metadata": {},
   "outputs": [
    {
     "data": {
      "text/plain": [
       "confidence_prob                  0.700000\n",
       "operand_bits                     4.000000\n",
       "last_carry-0_mean_answer_step    0.190946\n",
       "last_carry-1_mean_answer_step    0.525926\n",
       "last_carry-2_mean_answer_step    1.247368\n",
       "last_carry-3_mean_answer_step    2.014815\n",
       "last_carry-4_mean_answer_step         NaN\n",
       "last_test_mean_answer_step       0.525735\n",
       "dtype: float64"
      ]
     },
     "execution_count": 16,
     "metadata": {},
     "output_type": "execute_result"
    }
   ],
   "source": [
    "df_sub_jordan_7.mean()"
   ]
  },
  {
   "cell_type": "code",
   "execution_count": 17,
   "metadata": {},
   "outputs": [
    {
     "data": {
      "text/plain": [
       "confidence_prob                  0.800000\n",
       "operand_bits                     4.000000\n",
       "last_carry-0_mean_answer_step    2.986831\n",
       "last_carry-1_mean_answer_step    4.186420\n",
       "last_carry-2_mean_answer_step    4.600000\n",
       "last_carry-3_mean_answer_step    5.325926\n",
       "last_carry-4_mean_answer_step         NaN\n",
       "last_test_mean_answer_step       3.605147\n",
       "dtype: float64"
      ]
     },
     "execution_count": 17,
     "metadata": {},
     "output_type": "execute_result"
    }
   ],
   "source": [
    "df_sub_elman_8.mean()"
   ]
  },
  {
   "cell_type": "code",
   "execution_count": 18,
   "metadata": {},
   "outputs": [
    {
     "data": {
      "text/plain": [
       "confidence_prob                  0.800000\n",
       "operand_bits                     4.000000\n",
       "last_carry-0_mean_answer_step    0.870370\n",
       "last_carry-1_mean_answer_step    2.160494\n",
       "last_carry-2_mean_answer_step    5.533333\n",
       "last_carry-3_mean_answer_step    8.385185\n",
       "last_carry-4_mean_answer_step         NaN\n",
       "last_test_mean_answer_step       2.275245\n",
       "dtype: float64"
      ]
     },
     "execution_count": 18,
     "metadata": {},
     "output_type": "execute_result"
    }
   ],
   "source": [
    "df_sub_jordan_8.mean()"
   ]
  },
  {
   "cell_type": "code",
   "execution_count": 19,
   "metadata": {},
   "outputs": [
    {
     "data": {
      "text/plain": [
       "confidence_prob                   0.900000\n",
       "operand_bits                      4.000000\n",
       "last_carry-0_mean_answer_step    13.516461\n",
       "last_carry-1_mean_answer_step    15.776543\n",
       "last_carry-2_mean_answer_step    16.073684\n",
       "last_carry-3_mean_answer_step    16.803704\n",
       "last_carry-4_mean_answer_step          NaN\n",
       "last_test_mean_answer_step       14.539951\n",
       "dtype: float64"
      ]
     },
     "execution_count": 19,
     "metadata": {},
     "output_type": "execute_result"
    }
   ],
   "source": [
    "df_sub_elman_9.mean()"
   ]
  },
  {
   "cell_type": "code",
   "execution_count": 20,
   "metadata": {},
   "outputs": [
    {
     "data": {
      "text/plain": [
       "confidence_prob                   0.900000\n",
       "operand_bits                      4.000000\n",
       "last_carry-0_mean_answer_step     2.292181\n",
       "last_carry-1_mean_answer_step     6.523457\n",
       "last_carry-2_mean_answer_step    11.180702\n",
       "last_carry-3_mean_answer_step    16.362963\n",
       "last_carry-4_mean_answer_step          NaN\n",
       "last_test_mean_answer_step        5.305147\n",
       "dtype: float64"
      ]
     },
     "execution_count": 20,
     "metadata": {},
     "output_type": "execute_result"
    }
   ],
   "source": [
    "df_sub_jordan_9.mean()"
   ]
  },
  {
   "cell_type": "markdown",
   "metadata": {},
   "source": [
    "# Export as CSV"
   ]
  },
  {
   "cell_type": "code",
   "execution_count": 21,
   "metadata": {},
   "outputs": [],
   "source": [
    "import pandas as pd\n",
    "import numpy as np\n",
    "import data_utils "
   ]
  },
  {
   "cell_type": "code",
   "execution_count": 22,
   "metadata": {},
   "outputs": [
    {
     "data": {
      "text/plain": [
       "Index(['operator', 'rnn_type', 'confidence_prob', 'operand_bits',\n",
       "       'last_carry-0_mean_answer_step', 'last_carry-1_mean_answer_step',\n",
       "       'last_carry-2_mean_answer_step', 'last_carry-3_mean_answer_step',\n",
       "       'last_carry-4_mean_answer_step', 'last_test_mean_answer_step'],\n",
       "      dtype='object')"
      ]
     },
     "execution_count": 22,
     "metadata": {},
     "output_type": "execute_result"
    }
   ],
   "source": [
    "df_add_jordan_9.columns"
   ]
  },
  {
   "cell_type": "code",
   "execution_count": 23,
   "metadata": {},
   "outputs": [],
   "source": [
    "n_rows = df_add_jordan_9.shape[0]\n",
    "operator = df_add_jordan_9['operator'].iloc[0]\n",
    "operand_digits = df_add_jordan_9['operand_bits'].iloc[0]\n",
    "carry_list = list(data_utils.import_carry_datasets(operand_digits, operator).keys())"
   ]
  },
  {
   "cell_type": "code",
   "execution_count": 24,
   "metadata": {},
   "outputs": [],
   "source": [
    "csv_df_list = list()\n",
    "for carries in carry_list:\n",
    "    col = 'last_carry-{}_mean_answer_step'.format(carries)\n",
    "    csv_df = pd.DataFrame(data={'mean_anwer_steps':df_add_jordan_9[col], 'carries':np.full((n_rows), carries)})\n",
    "    csv_df_list.append(csv_df)\n",
    "csv_df = pd.concat(csv_df_list, ignore_index=True)"
   ]
  },
  {
   "cell_type": "code",
   "execution_count": 25,
   "metadata": {},
   "outputs": [
    {
     "data": {
      "text/plain": [
       "(150, 2)"
      ]
     },
     "execution_count": 25,
     "metadata": {},
     "output_type": "execute_result"
    }
   ],
   "source": [
    "csv_df.shape"
   ]
  },
  {
   "cell_type": "code",
   "execution_count": 26,
   "metadata": {},
   "outputs": [
    {
     "data": {
      "text/html": [
       "<div>\n",
       "<style scoped>\n",
       "    .dataframe tbody tr th:only-of-type {\n",
       "        vertical-align: middle;\n",
       "    }\n",
       "\n",
       "    .dataframe tbody tr th {\n",
       "        vertical-align: top;\n",
       "    }\n",
       "\n",
       "    .dataframe thead th {\n",
       "        text-align: right;\n",
       "    }\n",
       "</style>\n",
       "<table border=\"1\" class=\"dataframe\">\n",
       "  <thead>\n",
       "    <tr style=\"text-align: right;\">\n",
       "      <th></th>\n",
       "      <th>carries</th>\n",
       "      <th>mean_anwer_steps</th>\n",
       "    </tr>\n",
       "  </thead>\n",
       "  <tbody>\n",
       "    <tr>\n",
       "      <th>0</th>\n",
       "      <td>0</td>\n",
       "      <td>1.975309</td>\n",
       "    </tr>\n",
       "    <tr>\n",
       "      <th>1</th>\n",
       "      <td>0</td>\n",
       "      <td>3.135803</td>\n",
       "    </tr>\n",
       "    <tr>\n",
       "      <th>2</th>\n",
       "      <td>0</td>\n",
       "      <td>3.444444</td>\n",
       "    </tr>\n",
       "    <tr>\n",
       "      <th>3</th>\n",
       "      <td>0</td>\n",
       "      <td>2.654321</td>\n",
       "    </tr>\n",
       "    <tr>\n",
       "      <th>4</th>\n",
       "      <td>0</td>\n",
       "      <td>1.469136</td>\n",
       "    </tr>\n",
       "  </tbody>\n",
       "</table>\n",
       "</div>"
      ],
      "text/plain": [
       "   carries  mean_anwer_steps\n",
       "0        0          1.975309\n",
       "1        0          3.135803\n",
       "2        0          3.444444\n",
       "3        0          2.654321\n",
       "4        0          1.469136"
      ]
     },
     "execution_count": 26,
     "metadata": {},
     "output_type": "execute_result"
    }
   ],
   "source": [
    "csv_df.head()"
   ]
  },
  {
   "cell_type": "code",
   "execution_count": 27,
   "metadata": {},
   "outputs": [],
   "source": [
    "# Change the order of columns\n",
    "csv_df = csv_df[['mean_anwer_steps', 'carries']]"
   ]
  },
  {
   "cell_type": "code",
   "execution_count": 28,
   "metadata": {},
   "outputs": [
    {
     "data": {
      "text/html": [
       "<div>\n",
       "<style scoped>\n",
       "    .dataframe tbody tr th:only-of-type {\n",
       "        vertical-align: middle;\n",
       "    }\n",
       "\n",
       "    .dataframe tbody tr th {\n",
       "        vertical-align: top;\n",
       "    }\n",
       "\n",
       "    .dataframe thead th {\n",
       "        text-align: right;\n",
       "    }\n",
       "</style>\n",
       "<table border=\"1\" class=\"dataframe\">\n",
       "  <thead>\n",
       "    <tr style=\"text-align: right;\">\n",
       "      <th></th>\n",
       "      <th>mean_anwer_steps</th>\n",
       "      <th>carries</th>\n",
       "    </tr>\n",
       "  </thead>\n",
       "  <tbody>\n",
       "    <tr>\n",
       "      <th>0</th>\n",
       "      <td>1.975309</td>\n",
       "      <td>0</td>\n",
       "    </tr>\n",
       "    <tr>\n",
       "      <th>1</th>\n",
       "      <td>3.135803</td>\n",
       "      <td>0</td>\n",
       "    </tr>\n",
       "    <tr>\n",
       "      <th>2</th>\n",
       "      <td>3.444444</td>\n",
       "      <td>0</td>\n",
       "    </tr>\n",
       "    <tr>\n",
       "      <th>3</th>\n",
       "      <td>2.654321</td>\n",
       "      <td>0</td>\n",
       "    </tr>\n",
       "    <tr>\n",
       "      <th>4</th>\n",
       "      <td>1.469136</td>\n",
       "      <td>0</td>\n",
       "    </tr>\n",
       "  </tbody>\n",
       "</table>\n",
       "</div>"
      ],
      "text/plain": [
       "   mean_anwer_steps  carries\n",
       "0          1.975309        0\n",
       "1          3.135803        0\n",
       "2          3.444444        0\n",
       "3          2.654321        0\n",
       "4          1.469136        0"
      ]
     },
     "execution_count": 28,
     "metadata": {},
     "output_type": "execute_result"
    }
   ],
   "source": [
    "csv_df.head()"
   ]
  },
  {
   "cell_type": "code",
   "execution_count": 29,
   "metadata": {},
   "outputs": [],
   "source": [
    "csv_df.to_csv('df_add_jordan_9.csv', index=False)"
   ]
  },
  {
   "cell_type": "markdown",
   "metadata": {},
   "source": [
    "## Functionalize"
   ]
  },
  {
   "cell_type": "code",
   "execution_count": 30,
   "metadata": {},
   "outputs": [],
   "source": [
    "import pandas as pd\n",
    "import numpy as np\n",
    "import data_utils \n",
    "from os.path import join\n",
    "\n",
    "def get_csv_df(df, filename):\n",
    "    # Get configurations\n",
    "    n_rows = df.shape[0]\n",
    "    operator = df['operator'].iloc[0]\n",
    "    operand_digits = df['operand_bits'].iloc[0]\n",
    "    carry_list = list(data_utils.import_carry_datasets(operand_digits, operator).keys())\n",
    "    \n",
    "    # Gather for each \n",
    "    csv_df_list = list()\n",
    "    for carries in carry_list:\n",
    "        col = 'last_carry-{}_mean_answer_step'.format(carries)\n",
    "        csv_df = pd.DataFrame(data={'mean_anwer_steps':df[col], 'carries':np.full((n_rows), carries)})\n",
    "        csv_df_list.append(csv_df)\n",
    "    csv_df = pd.concat(csv_df_list, ignore_index=True)\n",
    "    \n",
    "    # Change the order of columns\n",
    "    csv_df = csv_df[['mean_anwer_steps', 'carries']]\n",
    "    \n",
    "    # Save the dataframe to a CSV file.\n",
    "    csv_df.to_csv(join('result_statistics', filename), index=False)"
   ]
  },
  {
   "cell_type": "code",
   "execution_count": 31,
   "metadata": {},
   "outputs": [],
   "source": [
    "get_csv_df(df_add_jordan_9, 'add_jordan_9_full.csv')\n",
    "get_csv_df(df_add_jordan_8, 'add_jordan_8_full.csv')\n",
    "get_csv_df(df_add_jordan_7, 'add_jordan_7_full.csv')\n",
    "\n",
    "get_csv_df(df_sub_jordan_9, 'sub_jordan_9_full.csv')\n",
    "get_csv_df(df_sub_jordan_8, 'sub_jordan_8_full.csv')\n",
    "get_csv_df(df_sub_jordan_7, 'sub_jordan_7_full.csv')\n",
    "\n",
    "get_csv_df(df_add_elman_9, 'add_elman_9_full.csv')\n",
    "get_csv_df(df_add_elman_8, 'add_elman_8_full.csv')\n",
    "get_csv_df(df_add_elman_7, 'add_elman_7_full.csv')\n",
    "\n",
    "get_csv_df(df_sub_elman_9, 'sub_elman_9_full.csv')\n",
    "get_csv_df(df_sub_elman_8, 'sub_elman_8_full.csv')\n",
    "get_csv_df(df_sub_elman_7, 'sub_elman_7_full.csv')"
   ]
  }
 ],
 "metadata": {
  "kernelspec": {
   "display_name": "Python 3",
   "language": "python",
   "name": "python3"
  },
  "language_info": {
   "codemirror_mode": {
    "name": "ipython",
    "version": 3
   },
   "file_extension": ".py",
   "mimetype": "text/x-python",
   "name": "python",
   "nbconvert_exporter": "python",
   "pygments_lexer": "ipython3",
   "version": "3.5.2"
  }
 },
 "nbformat": 4,
 "nbformat_minor": 2
}
