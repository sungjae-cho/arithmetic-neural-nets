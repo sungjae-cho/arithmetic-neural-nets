{
 "cells": [
  {
   "cell_type": "code",
   "execution_count": 1,
   "metadata": {},
   "outputs": [],
   "source": [
    "import tensorflow as tf\n",
    "import numpy as np\n",
    "import utils\n",
    "from datetime import datetime\n",
    "import matplotlib.pyplot as plt\n",
    "\n",
    "%matplotlib inline"
   ]
  },
  {
   "cell_type": "markdown",
   "metadata": {},
   "source": [
    "# 1. Import data"
   ]
  },
  {
   "cell_type": "code",
   "execution_count": 2,
   "metadata": {},
   "outputs": [],
   "source": [
    "operator = 'add'\n",
    "(input_train, input_dev, input_test, \n",
    "           target_train, target_dev, target_test) = utils.import_data(operator)"
   ]
  },
  {
   "cell_type": "code",
   "execution_count": 3,
   "metadata": {},
   "outputs": [],
   "source": [
    "# If the training dataset takes all examples, then the dev and test datasets are the same as the training one. \n",
    "if input_dev.shape[0] == 0:\n",
    "    input_dev = input_train\n",
    "    target_dev = target_train\n",
    "    input_test = input_train\n",
    "    target_test = target_train"
   ]
  },
  {
   "cell_type": "code",
   "execution_count": 4,
   "metadata": {},
   "outputs": [
    {
     "name": "stdout",
     "output_type": "stream",
     "text": [
      "(65536, 16)\n",
      "(65536, 16)\n",
      "(65536, 16)\n",
      "(65536, 9)\n",
      "(65536, 9)\n",
      "(65536, 9)\n"
     ]
    }
   ],
   "source": [
    "print(input_train.shape)\n",
    "print(input_dev.shape)\n",
    "print(input_test.shape)\n",
    "print(target_train.shape)\n",
    "print(target_dev.shape)\n",
    "print(target_test.shape)"
   ]
  },
  {
   "cell_type": "markdown",
   "metadata": {},
   "source": [
    "## 1.1 Hyperparameters"
   ]
  },
  {
   "cell_type": "markdown",
   "metadata": {},
   "source": [
    "1. Break down the training set with the defined batch size.\n",
    "2. Give away the last batch if it does not have the batch size.\n",
    "3. Start a new epoch.\n",
    "4. Shuffle the training set."
   ]
  },
  {
   "cell_type": "code",
   "execution_count": 5,
   "metadata": {},
   "outputs": [],
   "source": [
    "dir_saved_models = 'saved_models'\n",
    "rootdir_logs = 'tf_logs'\n",
    "train_print_period = 100\n",
    "dev_print_period = 1000\n",
    "\n",
    "# Contants\n",
    "INPUT_DIM = input_train.shape[1] \n",
    "OUTPUT_DIM = target_train.shape[1]\n",
    "\n",
    "# Hyperparameters - training\n",
    "batch_size = 32\n",
    "n_epoch = 999999999999\n",
    "str_optimizer = 'adam'\n",
    "learning_rate = 0.001\n",
    "all_correct_stop = False\n",
    "full_batch_saturation = True\n",
    "if full_batch_saturation:\n",
    "    all_correct_stop = False\n",
    "\n",
    "# Hyperparameters - model\n",
    "nn_model_type = 'mlp' # mlp, cnn, rnn\n",
    "activation = tf.nn.sigmoid\n",
    "h_layer_dims = [32] # h_layer_dims[0]: dim of h1 layer\n",
    "last_size = OUTPUT_DIM\n",
    "\n",
    "# Variables determined by other variables\n",
    "train_size = input_train.shape[0]\n",
    "n_batch = train_size // batch_size"
   ]
  },
  {
   "cell_type": "code",
   "execution_count": 6,
   "metadata": {},
   "outputs": [],
   "source": [
    "n_bit_input_number = INPUT_DIM // 2"
   ]
  },
  {
   "cell_type": "markdown",
   "metadata": {},
   "source": [
    "# 2. Define a computational graph for the feedforward neural net"
   ]
  },
  {
   "cell_type": "code",
   "execution_count": 7,
   "metadata": {},
   "outputs": [
    {
     "name": "stdout",
     "output_type": "stream",
     "text": [
      "WARNING:tensorflow:From /usr/local/lib/python3.5/dist-packages/tensorflow/contrib/learn/python/learn/datasets/base.py:198: retry (from tensorflow.contrib.learn.python.learn.datasets.base) is deprecated and will be removed in a future version.\n",
      "Instructions for updating:\n",
      "Use the retry module or similar alternatives.\n"
     ]
    }
   ],
   "source": [
    "inputs = tf.placeholder(tf.float32, shape=(None, input_train.shape[1]), name='inputs') # None for mini-batch size\n",
    "targets = tf.placeholder(tf.float32, shape=(None, target_train.shape[1]), name='targets')\n",
    "\n",
    "training_epoch = tf.placeholder(tf.float32, shape=None, name='training_epoch') \n",
    "full_batch_training = tf.placeholder(tf.int8, shape=None)\n",
    "\n",
    "# Weight initialization\n",
    "if activation == tf.nn.relu:\n",
    "    kernel_initializer = tf.contrib.layers.variance_scaling_initializer(factor=2.0)\n",
    "if activation == tf.nn.sigmoid:\n",
    "    kernel_initializer = tf.contrib.layers.variance_scaling_initializer(factor=1.0)\n",
    "if activation == tf.nn.tanh:\n",
    "    kernel_initializer = tf.contrib.layers.variance_scaling_initializer(factor=1.0)\n",
    "    \n",
    "# NN structure\n",
    "h1 = tf.layers.dense(inputs, h_layer_dims[0], activation=activation, kernel_initializer=kernel_initializer, name='h1')\n",
    "last_logits = tf.layers.dense(h1, last_size, activation=None, kernel_initializer=kernel_initializer, name='last_logits')\n",
    "sigmoid_outputs = tf.sigmoid(last_logits)\n",
    "predictions = utils.tf_tlu(sigmoid_outputs)\n",
    "\n",
    "# Loss: objective function\n",
    "loss = tf.nn.sigmoid_cross_entropy_with_logits(labels=targets, logits=last_logits) # https://www.tensorflow.org/api_docs/python/tf/nn/sigmoid_cross_entropy_with_logits\n",
    "loss = tf.reduce_mean(loss)\n",
    "\n",
    "# Accuracy\n",
    "(accuracy, n_wrong, n_correct) = utils.get_measures(targets, predictions)\n",
    "\n",
    "# Training, optimization\n",
    "train_op = tf.train.AdamOptimizer(learning_rate=learning_rate).minimize(loss)\n",
    "init = tf.global_variables_initializer()"
   ]
  },
  {
   "cell_type": "markdown",
   "metadata": {},
   "source": [
    "# 3. Analyzing activations"
   ]
  },
  {
   "cell_type": "markdown",
   "metadata": {},
   "source": [
    "##  3.1. Restore a trained model"
   ]
  },
  {
   "cell_type": "code",
   "execution_count": 8,
   "metadata": {},
   "outputs": [],
   "source": [
    "dir_saved_model = 'saved_models'\n",
    "model_id = '20181001180511'\n",
    "model_to_import = '{}/{}/{}/epoch2000-batch2047.ckpt'.format(\n",
    "    operator, nn_model_type, model_id)\n",
    "\n",
    "#saver = tf.train.import_meta_graph('{}/{}.meta'.format(dir_saved_model, model_to_import))\n",
    "saver = tf.train.Saver()\n",
    "\n",
    "config = tf.ConfigProto()\n",
    "config.gpu_options.allow_growth = True"
   ]
  },
  {
   "cell_type": "markdown",
   "metadata": {},
   "source": [
    "## 3.2. Visualizing the activations in the hidden layer"
   ]
  },
  {
   "cell_type": "code",
   "execution_count": 9,
   "metadata": {
    "scrolled": false
   },
   "outputs": [
    {
     "name": "stdout",
     "output_type": "stream",
     "text": [
      "INFO:tensorflow:Restoring parameters from saved_models/add/mlp/20181001180511/epoch2000-batch2047.ckpt\n",
      "Model restored.\n",
      "[[0. 0. 0. 0. 0. 0. 0. 0. 0.]]\n",
      "[[1.2672061e-07 6.3365526e-02 6.5915170e-03 1.0000000e+00 9.9999857e-01\n",
      "  1.0000000e+00 8.5556477e-01 9.9995208e-01 7.7304427e-11 1.0000000e+00\n",
      "  5.1879689e-17 1.0000000e+00 1.0000000e+00 8.6415701e-02 8.1727666e-01\n",
      "  5.9810996e-01 1.0000000e+00 1.0000000e+00 1.0000000e+00 3.4562549e-07\n",
      "  2.0407976e-15 1.8534452e-01 8.9284098e-01 1.0000000e+00 6.1623180e-01\n",
      "  2.5491493e-06 1.0000000e+00 3.3567307e-16 1.0000000e+00 1.0000000e+00\n",
      "  9.9996150e-01 3.4538275e-01]]\n",
      "[1.2672061e-07 6.3365526e-02 6.5915170e-03 1.0000000e+00 9.9999857e-01\n",
      " 1.0000000e+00 8.5556477e-01 9.9995208e-01 7.7304427e-11 1.0000000e+00\n",
      " 5.1879689e-17 1.0000000e+00 1.0000000e+00 8.6415701e-02 8.1727666e-01\n",
      " 5.9810996e-01 1.0000000e+00 1.0000000e+00 1.0000000e+00 3.4562549e-07\n",
      " 2.0407976e-15 1.8534452e-01 8.9284098e-01 1.0000000e+00 6.1623180e-01\n",
      " 2.5491493e-06 1.0000000e+00 3.3567307e-16 1.0000000e+00 1.0000000e+00\n",
      " 9.9996150e-01 3.4538275e-01]\n"
     ]
    },
    {
     "data": {
      "image/png": "[encoded data removed]",
      "text/plain": [
       "<Figure size 432x288 with 1 Axes>"
      ]
     },
     "metadata": {},
     "output_type": "display_data"
    }
   ],
   "source": [
    "with tf.Session(config=config) as sess:\n",
    "    saver.restore(sess, '{}/{}'.format(dir_saved_model, model_to_import))\n",
    "    print(\"Model restored.\")\n",
    "        \n",
    "    n1 = np.asarray([[0, 0, 0, 0, 0, 0, 0, 0]], dtype=np.float)\n",
    "    n2 = np.asarray([[0, 0, 0, 0, 0, 0, 0, 0]], dtype=np.float)\n",
    "    input_test = np.concatenate((n1, n2), axis=1)\n",
    "    \n",
    "    [predictions_value, h1_value] = sess.run(\n",
    "        [predictions, h1],\n",
    "        feed_dict={inputs:input_test})\n",
    "    print(predictions_value)\n",
    "    print(h1_value)\n",
    "    print(np.squeeze(h1_value))\n",
    "    \n",
    "    \n",
    "    x = list(range(h1_value.shape[1]))\n",
    "    y = np.squeeze(h1_value)\n",
    "    yticks = [0.05 * i for i in range(21)]\n",
    "    plt.bar(x, y)\n",
    "    plt.grid(True)\n",
    "    plt.xticks(x)\n",
    "    plt.yticks(yticks)\n",
    "    plt.show()"
   ]
  },
  {
   "cell_type": "markdown",
   "metadata": {},
   "source": [
    "## 3.3. Computing the layers and get and save their values "
   ]
  },
  {
   "cell_type": "code",
   "execution_count": null,
   "metadata": {
    "scrolled": false
   },
   "outputs": [
    {
     "name": "stdout",
     "output_type": "stream",
     "text": [
      "INFO:tensorflow:Restoring parameters from saved_models/add/mlp/20181001180511/epoch2000-batch2047.ckpt\n",
      "Model restored.\n",
      "1000\n",
      "2000\n",
      "3000\n",
      "4000\n",
      "5000\n",
      "6000\n",
      "7000\n",
      "8000\n",
      "9000\n",
      "10000\n"
     ]
    }
   ],
   "source": [
    "with tf.Session(config=config) as sess:\n",
    "    saver.restore(sess, '{}/{}'.format(dir_saved_model, model_to_import))\n",
    "    print(\"Model restored.\")\n",
    "    \n",
    "    layers = list()\n",
    "    for i1 in range(2**n_bit_input_number):\n",
    "        for i2 in range(2**n_bit_input_number):\n",
    "            result_dict = dict()\n",
    "\n",
    "            n1 = np.asarray(utils.dec2bin_np_embed(i1, n_bit_input_number), dtype=np.float)\n",
    "            n2 = np.asarray(utils.dec2bin_np_embed(i2, n_bit_input_number), dtype=np.float)\n",
    "            input_test = np.concatenate((n1, n2), axis=1)\n",
    "    \n",
    "            [predictions_value, h1_value] = sess.run(\n",
    "                [predictions, h1],\n",
    "                feed_dict={inputs:input_test})\n",
    "        \n",
    "            result_dict['n1'] = n1\n",
    "            result_dict['n2'] = n2\n",
    "            result_dict['h1'] = h1_value\n",
    "            result_dict['output'] = predictions_value\n",
    "            \n",
    "            layers.append(result_dict)\n",
    "            \n",
    "            if len(layers) % 1000 == 0:\n",
    "                print(len(layers))"
   ]
  },
  {
   "cell_type": "code",
   "execution_count": null,
   "metadata": {},
   "outputs": [],
   "source": [
    "print(len(layers))"
   ]
  },
  {
   "cell_type": "code",
   "execution_count": null,
   "metadata": {},
   "outputs": [],
   "source": [
    "layers[-1]"
   ]
  },
  {
   "cell_type": "code",
   "execution_count": null,
   "metadata": {},
   "outputs": [],
   "source": [
    "layers[0]"
   ]
  },
  {
   "cell_type": "code",
   "execution_count": null,
   "metadata": {},
   "outputs": [],
   "source": [
    "import os \n",
    "\n",
    "def create_dir(directory):\n",
    "    if not os.path.exists(directory):\n",
    "        os.makedirs(directory)"
   ]
  },
  {
   "cell_type": "code",
   "execution_count": null,
   "metadata": {},
   "outputs": [],
   "source": [
    "dir_to_save = 'data/add/layers/{}'.format(model_id)\n",
    "create_dir(dir_to_save)\n",
    "\n",
    "import pickle\n",
    "\n",
    "with open(dir_to_save + '/layers.pickle', 'wb') as f: \n",
    "    pickle.dump(layers, f)"
   ]
  },
  {
   "cell_type": "markdown",
   "metadata": {},
   "source": [
    "## 3.4. Compute the variance of activations for each digit-wise"
   ]
  },
  {
   "cell_type": "code",
   "execution_count": null,
   "metadata": {},
   "outputs": [],
   "source": [
    "dir_to_import = 'data/add/layers/{}'.format(model_id)\n",
    "\n",
    "import pickle\n",
    "\n",
    "with open(dir_to_import + '/layers.pickle', 'rb') as f: \n",
    "    layers = pickle.load(f)"
   ]
  },
  {
   "cell_type": "code",
   "execution_count": null,
   "metadata": {},
   "outputs": [],
   "source": [
    "def get_invariance_hidden_unit(layers, position, n1_digit, n2_digit):\n",
    "    h1_list = list()\n",
    "    for i in range(len(layers)):\n",
    "        n1 = layers[i]['n1']\n",
    "        n2 = layers[i]['n2']\n",
    "        h1 = layers[i]['h1']\n",
    "        # layers[i]['output']\n",
    "        if (n1[0,-position-1], n2[0,-position-1]) == (n1_digit, n2_digit):\n",
    "            h1_list.append(h1)\n",
    "\n",
    "    h1_set = np.zeros((len(h1_list), h1_list[0].shape[1]))\n",
    "    for i in range(len(h1_list)):\n",
    "        h1_set[i, :] = h1_list[i]\n",
    "\n",
    "    h1_var = np.var(h1_set, axis=0)\n",
    "    return (np.min(h1_var), np.max(h1_var), np.argmin(h1_var), np.argmax(h1_var), np.argsort(h1_var), np.sort(h1_var), np.mean(h1_var))"
   ]
  },
  {
   "cell_type": "code",
   "execution_count": null,
   "metadata": {},
   "outputs": [],
   "source": [
    "def get_mean_hidden_unit(layers, position, n1_digit, n2_digit):\n",
    "    h1_list = list()\n",
    "    for i in range(len(layers)):\n",
    "        n1 = layers[i]['n1']\n",
    "        n2 = layers[i]['n2']\n",
    "        h1 = layers[i]['h1']\n",
    "        # layers[i]['output']\n",
    "        if (n1[0,position], n2[0,position]) == (n1_digit, n2_digit):\n",
    "            h1_list.append(h1)\n",
    "\n",
    "    h1_set = np.zeros((len(h1_list), h1_list[0].shape[1]))\n",
    "    for i in range(len(h1_list)):\n",
    "        h1_set[i, :] = h1_list[i]\n",
    "\n",
    "    h1_mean = np.mean(h1_set, axis=0)\n",
    "    return np.sort(h1_mean)"
   ]
  },
  {
   "cell_type": "code",
   "execution_count": null,
   "metadata": {},
   "outputs": [],
   "source": [
    "get_invariance_hidden_unit(layers, 0, 1, 0)"
   ]
  },
  {
   "cell_type": "code",
   "execution_count": null,
   "metadata": {},
   "outputs": [],
   "source": [
    "get_invariance_hidden_unit(layers, 0, 0, 1)"
   ]
  },
  {
   "cell_type": "code",
   "execution_count": null,
   "metadata": {},
   "outputs": [],
   "source": [
    "n_digit_input_number = layers[0]['n1'].shape[1]\n",
    "for i in range(n_digit_input_number):\n",
    "    position = i\n",
    "    print(\"position={}\".format(position))\n",
    "    print(get_invariance_hidden_unit(layers, position, 0, 0)[4])\n",
    "    print(get_invariance_hidden_unit(layers, position, 1, 0)[4])\n",
    "    print(get_invariance_hidden_unit(layers, position, 0, 1)[4])\n",
    "    print(get_invariance_hidden_unit(layers, position, 1, 1)[4])"
   ]
  },
  {
   "cell_type": "code",
   "execution_count": null,
   "metadata": {},
   "outputs": [],
   "source": [
    "print(get_invariance_hidden_unit(layers, 1, 0, 0)[4])\n",
    "print(get_invariance_hidden_unit(layers, 0, 1, 0)[4])"
   ]
  },
  {
   "cell_type": "code",
   "execution_count": null,
   "metadata": {},
   "outputs": [],
   "source": [
    "np.argsort(np.absolute(get_mean_hidden_unit(layers, 1, 0, 0) - get_mean_hidden_unit(layers, 0, 1, 0)))"
   ]
  },
  {
   "cell_type": "markdown",
   "metadata": {},
   "source": [
    "The 16, 17, 18th units in the hidden layer seem to operate addition of 0 and 1 in the 1st position.\n",
    "\n",
    "That's because the units have small variance and their mean is small difference among the inputs that give out the same output."
   ]
  }
 ],
 "metadata": {
  "kernelspec": {
   "display_name": "Python 3",
   "language": "python",
   "name": "python3"
  },
  "language_info": {
   "codemirror_mode": {
    "name": "ipython",
    "version": 3
   },
   "file_extension": ".py",
   "mimetype": "text/x-python",
   "name": "python",
   "nbconvert_exporter": "python",
   "pygments_lexer": "ipython3",
   "version": "3.5.2"
  }
 },
 "nbformat": 4,
 "nbformat_minor": 2
}
