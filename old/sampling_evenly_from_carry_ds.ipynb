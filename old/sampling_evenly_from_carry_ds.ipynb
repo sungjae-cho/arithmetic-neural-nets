{
 "cells": [
  {
   "cell_type": "code",
   "execution_count": 1,
   "metadata": {},
   "outputs": [],
   "source": [
    "from data_utils import *"
   ]
  },
  {
   "cell_type": "code",
   "execution_count": null,
   "metadata": {},
   "outputs": [],
   "source": [
    "def import_op_dataset(operator, operand_digits, train_ratio, dev_ratio, test_ratio):\n",
    "    # Path of op_dataset\n",
    "    import_path = '{}/{}-bit/{}/op_dataset.pickle'.format(config.dir_data(), operand_digits, operator)\n",
    "\n",
    "    # Import the op_dataset\n",
    "    with open(import_path, 'rb') as f:\n",
    "        op_dataset = pickle.load(f)\n",
    "\n",
    "    # Dataset size\n",
    "    ds_size = op_dataset['input'].shape[0]\n",
    "\n",
    "    # Shuffle input and output data\n",
    "    randomize = np.arange(ds_size)\n",
    "    np.random.shuffle(randomize)\n",
    "    op_dataset['input'] = op_dataset['input'][randomize]\n",
    "    op_dataset['output'] = op_dataset['output'][randomize]\n",
    "\n",
    "    # Make a training set.\n",
    "    train_end_index = int(ds_size * train_ratio)\n",
    "    input_train = op_dataset['input'][:train_end_index,:]\n",
    "    target_train = op_dataset['output'][:train_end_index,:]\n",
    "\n",
    "    # Make a development set.\n",
    "    dev_end_index = int(ds_size * (train_ratio + dev_ratio))\n",
    "\n",
    "    if dev_ratio != 0:\n",
    "        input_dev = op_dataset['input'][:dev_end_index,:]\n",
    "        target_dev = op_dataset['output'][:dev_end_index,:]\n",
    "    else:\n",
    "        input_dev = None\n",
    "        target_dev = None\n",
    "\n",
    "    # Maek a test set.\n",
    "    input_test = op_dataset['input'][dev_end_index:,:]\n",
    "    target_test = op_dataset['output'][dev_end_index:,:]\n",
    "\n",
    "    return (input_train, input_dev, input_test,\n",
    "            target_train, target_dev, target_test)"
   ]
  },
  {
   "cell_type": "markdown",
   "metadata": {},
   "source": [
    "# Start to implement"
   ]
  },
  {
   "cell_type": "code",
   "execution_count": 2,
   "metadata": {},
   "outputs": [],
   "source": [
    "operator = 'add'\n",
    "operand_digits = 4 \n",
    "(train_ratio, dev_ratio, test_ratio) = (0.8*0.8, 0.8*0.2, 0.2)"
   ]
  },
  {
   "cell_type": "code",
   "execution_count": 3,
   "metadata": {},
   "outputs": [
    {
     "name": "stdout",
     "output_type": "stream",
     "text": [
      "(0.6400000000000001, 0.16000000000000003, 0.2)\n"
     ]
    }
   ],
   "source": [
    "print((train_ratio, dev_ratio, test_ratio) )"
   ]
  },
  {
   "cell_type": "code",
   "execution_count": 4,
   "metadata": {},
   "outputs": [],
   "source": [
    "# Path of op_dataset\n",
    "import_path = '{}/{}-bit/{}/op_dataset.pickle'.format(config.dir_data(), operand_digits, operator)"
   ]
  },
  {
   "cell_type": "code",
   "execution_count": 5,
   "metadata": {},
   "outputs": [],
   "source": [
    "# Import the op_dataset\n",
    "with open(import_path, 'rb') as f:\n",
    "    op_dataset = pickle.load(f)"
   ]
  },
  {
   "cell_type": "code",
   "execution_count": 6,
   "metadata": {},
   "outputs": [],
   "source": [
    "# Dataset size\n",
    "ds_size = op_dataset['input'].shape[0]"
   ]
  },
  {
   "cell_type": "code",
   "execution_count": 7,
   "metadata": {},
   "outputs": [],
   "source": [
    "# Shuffle input and output data\n",
    "randomize = np.arange(ds_size)\n",
    "np.random.shuffle(randomize)\n",
    "op_dataset['input'] = op_dataset['input'][randomize]\n",
    "op_dataset['output'] = op_dataset['output'][randomize]"
   ]
  },
  {
   "cell_type": "code",
   "execution_count": 14,
   "metadata": {},
   "outputs": [],
   "source": [
    "import_path = 'data/{}-bit/{}/carry_datasets.pickle'.format(operand_digits, operator)\n",
    "\n",
    "with open(import_path, 'rb') as f:\n",
    "    carry_datasets = pickle.load(f)"
   ]
  },
  {
   "cell_type": "code",
   "execution_count": 23,
   "metadata": {},
   "outputs": [
    {
     "data": {
      "text/plain": [
       "array([[0, 0, 0, 1, 1, 1, 1, 1],\n",
       "       [0, 0, 1, 1, 1, 1, 0, 1],\n",
       "       [0, 0, 1, 1, 1, 1, 1, 1],\n",
       "       [0, 1, 0, 1, 1, 0, 1, 1],\n",
       "       [0, 1, 0, 1, 1, 1, 1, 1],\n",
       "       [0, 1, 1, 1, 1, 0, 0, 1],\n",
       "       [0, 1, 1, 1, 1, 0, 1, 1],\n",
       "       [0, 1, 1, 1, 1, 1, 0, 1],\n",
       "       [0, 1, 1, 1, 1, 1, 1, 1],\n",
       "       [1, 0, 0, 1, 0, 1, 1, 1],\n",
       "       [1, 0, 0, 1, 1, 1, 1, 1],\n",
       "       [1, 0, 1, 1, 0, 1, 0, 1],\n",
       "       [1, 0, 1, 1, 0, 1, 1, 1],\n",
       "       [1, 0, 1, 1, 1, 1, 0, 1],\n",
       "       [1, 0, 1, 1, 1, 1, 1, 1],\n",
       "       [1, 1, 0, 1, 0, 0, 1, 1],\n",
       "       [1, 1, 0, 1, 0, 1, 1, 1],\n",
       "       [1, 1, 0, 1, 1, 0, 1, 1],\n",
       "       [1, 1, 0, 1, 1, 1, 1, 1],\n",
       "       [1, 1, 1, 1, 0, 0, 0, 1],\n",
       "       [1, 1, 1, 1, 0, 0, 1, 1],\n",
       "       [1, 1, 1, 1, 0, 1, 0, 1],\n",
       "       [1, 1, 1, 1, 0, 1, 1, 1],\n",
       "       [1, 1, 1, 1, 1, 0, 0, 1],\n",
       "       [1, 1, 1, 1, 1, 0, 1, 1],\n",
       "       [1, 1, 1, 1, 1, 1, 0, 1],\n",
       "       [1, 1, 1, 1, 1, 1, 1, 1]])"
      ]
     },
     "execution_count": 23,
     "metadata": {},
     "output_type": "execute_result"
    }
   ],
   "source": [
    "carry_datasets[carries]['input']"
   ]
  },
  {
   "cell_type": "code",
   "execution_count": 38,
   "metadata": {},
   "outputs": [
    {
     "data": {
      "text/plain": [
       "81"
      ]
     },
     "execution_count": 38,
     "metadata": {},
     "output_type": "execute_result"
    }
   ],
   "source": [
    "len(carry_datasets[0]['input'])"
   ]
  },
  {
   "cell_type": "code",
   "execution_count": 40,
   "metadata": {},
   "outputs": [
    {
     "data": {
      "text/plain": [
       "(162, 8)"
      ]
     },
     "execution_count": 40,
     "metadata": {},
     "output_type": "execute_result"
    }
   ],
   "source": [
    "np.concatenate((carry_datasets[0]['input'], carry_datasets[0]['input']), axis=0).shape"
   ]
  },
  {
   "cell_type": "code",
   "execution_count": 60,
   "metadata": {},
   "outputs": [
    {
     "name": "stdout",
     "output_type": "stream",
     "text": [
      "81\n",
      "54\n",
      "52\n",
      "42\n",
      "27\n"
     ]
    }
   ],
   "source": [
    "input_train_list = list()\n",
    "input_dev_list = list()\n",
    "input_test_list = list()\n",
    "target_train_list = list()\n",
    "target_dev_list = list()\n",
    "target_test_list = list()\n",
    "\n",
    "splited_carry_datasets = dict()\n",
    "\n",
    "for carries in carry_datasets.keys():\n",
    "    # Initialize a dict for the number of carries\n",
    "    splited_carry_datasets[carries] = dict()\n",
    "    splited_carry_datasets[carries]['input'] = dict()\n",
    "    splited_carry_datasets[carries]['output'] = dict()\n",
    "    \n",
    "    # Get the size of a carry dataset\n",
    "    carry_ds_size = carry_datasets[carries]['input'].shape[0]\n",
    "    print(carry_ds_size)\n",
    "\n",
    "    # Shuffle input and output data\n",
    "    randomize = np.arange(carry_ds_size)\n",
    "    np.random.shuffle(randomize)\n",
    "    carry_datasets[carries]['input'] = carry_datasets[carries]['input'][randomize]\n",
    "    carry_datasets[carries]['output'] = carry_datasets[carries]['output'][randomize]\n",
    "\n",
    "    # Make a training set.\n",
    "    train_end_index = int(carry_ds_size * train_ratio)\n",
    "    input_train = carry_datasets[carries]['input'][:train_end_index,:]\n",
    "    target_train = carry_datasets[carries]['output'][:train_end_index,:]\n",
    "    input_train_list.append(input_train)\n",
    "    target_train_list.append(target_train)\n",
    "    splited_carry_datasets[carries]['input']['train'] = input_train\n",
    "    splited_carry_datasets[carries]['output']['train'] = target_train\n",
    "    \n",
    "    \n",
    "    # Make a development set.\n",
    "    dev_end_index = int(carry_ds_size * (train_ratio + dev_ratio))\n",
    "\n",
    "    if dev_ratio != 0:\n",
    "        input_dev = carry_datasets[carries]['input'][train_end_index:dev_end_index,:]\n",
    "        target_dev = carry_datasets[carries]['output'][train_end_index:dev_end_index,:]\n",
    "        input_dev_list.append(input_dev)\n",
    "        target_dev_list.append(target_dev)\n",
    "        splited_carry_datasets[carries]['input']['dev'] = input_dev\n",
    "        splited_carry_datasets[carries]['output']['dev'] = target_dev\n",
    "    else:\n",
    "        input_dev = None\n",
    "        target_dev = None\n",
    "    \n",
    "    # Maek a test set.\n",
    "    input_test = carry_datasets[carries]['input'][dev_end_index:,:]\n",
    "    target_test = carry_datasets[carries]['output'][dev_end_index:,:]\n",
    "    input_test_list.append(input_test)\n",
    "    target_test_list.append(target_test)\n",
    "    splited_carry_datasets[carries]['input']['test'] = input_test\n",
    "    splited_carry_datasets[carries]['output']['test'] = target_test\n",
    "    \n",
    "input_train = np.concatenate(input_train_list, axis=0)\n",
    "input_dev = np.concatenate(input_dev_list, axis=0)\n",
    "input_test = np.concatenate(input_test_list, axis=0)\n",
    "target_train = np.concatenate(target_train_list, axis=0)\n",
    "target_dev = np.concatenate(target_dev_list, axis=0)\n",
    "target_test = np.concatenate(target_test_list, axis=0)"
   ]
  },
  {
   "cell_type": "code",
   "execution_count": 68,
   "metadata": {},
   "outputs": [
    {
     "name": "stdout",
     "output_type": "stream",
     "text": [
      "81\n",
      "54\n",
      "52\n",
      "42\n",
      "27\n",
      "256\n"
     ]
    }
   ],
   "source": [
    "summ = 0\n",
    "for carries in splited_carry_datasets.keys():\n",
    "    tmp_sum = 0\n",
    "    tmp_sum += splited_carry_datasets[carries]['input']['train'].shape[0]\n",
    "    tmp_sum += splited_carry_datasets[carries]['input']['dev'].shape[0]\n",
    "    tmp_sum += splited_carry_datasets[carries]['input']['test'].shape[0]\n",
    "    print(tmp_sum)\n",
    "\n",
    "    summ += splited_carry_datasets[carries]['input']['train'].shape[0]\n",
    "    summ += splited_carry_datasets[carries]['input']['dev'].shape[0]\n",
    "    summ += splited_carry_datasets[carries]['input']['test'].shape[0]\n",
    "\n",
    "print(summ)"
   ]
  },
  {
   "cell_type": "code",
   "execution_count": 71,
   "metadata": {},
   "outputs": [],
   "source": [
    "def import_op_dataset(operator, operand_digits, train_ratio, dev_ratio, test_ratio):\n",
    "    input_train_list = list()\n",
    "    input_dev_list = list()\n",
    "    input_test_list = list()\n",
    "    target_train_list = list()\n",
    "    target_dev_list = list()\n",
    "    target_test_list = list()\n",
    "\n",
    "    splited_carry_datasets = dict()\n",
    "\n",
    "    for carries in carry_datasets.keys():\n",
    "        # Initialize a dict for the number of carries\n",
    "        splited_carry_datasets[carries] = dict()\n",
    "        splited_carry_datasets[carries]['input'] = dict()\n",
    "        splited_carry_datasets[carries]['output'] = dict()\n",
    "\n",
    "        # Get the size of a carry dataset\n",
    "        carry_ds_size = carry_datasets[carries]['input'].shape[0]\n",
    "\n",
    "        # Shuffle input and output data\n",
    "        randomize = np.arange(carry_ds_size)\n",
    "        np.random.shuffle(randomize)\n",
    "        carry_datasets[carries]['input'] = carry_datasets[carries]['input'][randomize]\n",
    "        carry_datasets[carries]['output'] = carry_datasets[carries]['output'][randomize]\n",
    "\n",
    "        # Make a training set.\n",
    "        train_end_index = int(carry_ds_size * train_ratio)\n",
    "        input_train = carry_datasets[carries]['input'][:train_end_index,:]\n",
    "        target_train = carry_datasets[carries]['output'][:train_end_index,:]\n",
    "        input_train_list.append(input_train)\n",
    "        target_train_list.append(target_train)\n",
    "        splited_carry_datasets[carries]['input']['train'] = input_train\n",
    "        splited_carry_datasets[carries]['output']['train'] = target_train\n",
    "\n",
    "\n",
    "        # Make a development set.\n",
    "        dev_end_index = int(carry_ds_size * (train_ratio + dev_ratio))\n",
    "\n",
    "        if dev_ratio != 0:\n",
    "            input_dev = carry_datasets[carries]['input'][train_end_index:dev_end_index,:]\n",
    "            target_dev = carry_datasets[carries]['output'][train_end_index:dev_end_index,:]\n",
    "            input_dev_list.append(input_dev)\n",
    "            target_dev_list.append(target_dev)\n",
    "            splited_carry_datasets[carries]['input']['dev'] = input_dev\n",
    "            splited_carry_datasets[carries]['output']['dev'] = target_dev\n",
    "        else:\n",
    "            input_dev = None\n",
    "            target_dev = None\n",
    "\n",
    "        # Maek a test set.\n",
    "        input_test = carry_datasets[carries]['input'][dev_end_index:,:]\n",
    "        target_test = carry_datasets[carries]['output'][dev_end_index:,:]\n",
    "        input_test_list.append(input_test)\n",
    "        target_test_list.append(target_test)\n",
    "        splited_carry_datasets[carries]['input']['test'] = input_test\n",
    "        splited_carry_datasets[carries]['output']['test'] = target_test\n",
    "\n",
    "    input_train = np.concatenate(input_train_list, axis=0)\n",
    "    input_dev = np.concatenate(input_dev_list, axis=0)\n",
    "    input_test = np.concatenate(input_test_list, axis=0)\n",
    "    target_train = np.concatenate(target_train_list, axis=0)\n",
    "    target_dev = np.concatenate(target_dev_list, axis=0)\n",
    "    target_test = np.concatenate(target_test_list, axis=0)\n",
    "    \n",
    "    return (input_train, input_dev, input_test,\n",
    "            target_train, target_dev, target_test,\n",
    "            splited_carry_datasets)"
   ]
  },
  {
   "cell_type": "code",
   "execution_count": 74,
   "metadata": {},
   "outputs": [],
   "source": [
    "outputs = (input_train, input_dev, input_test,\n",
    "            target_train, target_dev, target_test,\n",
    "            splited_carry_datasets) = import_op_dataset('add', 4, 0.6, 0.2, 0.2)"
   ]
  },
  {
   "cell_type": "code",
   "execution_count": 76,
   "metadata": {},
   "outputs": [
    {
     "name": "stdout",
     "output_type": "stream",
     "text": [
      "(152, 8)\n",
      "(50, 8)\n",
      "(54, 8)\n",
      "(152, 8)\n",
      "(50, 8)\n",
      "(54, 8)\n"
     ]
    }
   ],
   "source": [
    "for output in (input_train, input_dev, input_test, target_train, target_dev, target_test):\n",
    "    print(output.shape)"
   ]
  },
  {
   "cell_type": "code",
   "execution_count": 77,
   "metadata": {},
   "outputs": [
    {
     "data": {
      "text/plain": [
       "dict_keys([0, 1, 2, 3, 4])"
      ]
     },
     "execution_count": 77,
     "metadata": {},
     "output_type": "execute_result"
    }
   ],
   "source": [
    "splited_carry_datasets.keys()"
   ]
  },
  {
   "cell_type": "code",
   "execution_count": 87,
   "metadata": {},
   "outputs": [
    {
     "name": "stdout",
     "output_type": "stream",
     "text": [
      "152\n"
     ]
    }
   ],
   "source": [
    "summ = 0\n",
    "for carries in splited_carry_datasets.keys():\n",
    "    summ += splited_carry_datasets[carries]['input']['train'].shape[0]\n",
    "print(summ)"
   ]
  },
  {
   "cell_type": "code",
   "execution_count": 88,
   "metadata": {},
   "outputs": [
    {
     "name": "stdout",
     "output_type": "stream",
     "text": [
      "50\n"
     ]
    }
   ],
   "source": [
    "summ = 0\n",
    "for carries in splited_carry_datasets.keys():\n",
    "    summ += splited_carry_datasets[carries]['input']['dev'].shape[0]\n",
    "print(summ)"
   ]
  },
  {
   "cell_type": "code",
   "execution_count": 89,
   "metadata": {},
   "outputs": [
    {
     "name": "stdout",
     "output_type": "stream",
     "text": [
      "54\n"
     ]
    }
   ],
   "source": [
    "summ = 0\n",
    "for carries in splited_carry_datasets.keys():\n",
    "    summ += splited_carry_datasets[carries]['input']['test'].shape[0]\n",
    "print(summ)"
   ]
  }
 ],
 "metadata": {
  "kernelspec": {
   "display_name": "Python 3",
   "language": "python",
   "name": "python3"
  },
  "language_info": {
   "codemirror_mode": {
    "name": "ipython",
    "version": 3
   },
   "file_extension": ".py",
   "mimetype": "text/x-python",
   "name": "python",
   "nbconvert_exporter": "python",
   "pygments_lexer": "ipython3",
   "version": "3.5.2"
  }
 },
 "nbformat": 4,
 "nbformat_minor": 2
}
