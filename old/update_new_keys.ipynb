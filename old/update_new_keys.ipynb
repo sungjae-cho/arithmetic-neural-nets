{
 "cells": [
  {
   "cell_type": "markdown",
   "metadata": {},
   "source": [
    "# Update keys of `run_info` and `measure_logs`"
   ]
  },
  {
   "cell_type": "code",
   "execution_count": 1,
   "metadata": {},
   "outputs": [],
   "source": [
    "from pprint import pprint\n",
    "import run_info_utils\n",
    "df = run_info_utils.get_df_run_info()\n",
    "old_cols = list(df.columns)"
   ]
  },
  {
   "cell_type": "code",
   "execution_count": 2,
   "metadata": {},
   "outputs": [],
   "source": [
    "new_keys = {\n",
    "    'last_test_loss':'dev/last_loss',\n",
    "    'last_test_accuracy':'dev/last_accuracy',\n",
    "    'last_test_op_wrong':'dev/last_op_wrong',\n",
    "    'last_test_mean_correct_answer_step':'dev/last_mean_correct_answer_step',\n",
    "    'last_test_min_correct_answer_step':'dev/last_min_correct_answer_step',\n",
    "    'last_test_max_correct_answer_step':'dev/last_max_correct_answer_step',\n",
    "    'last_tlu_test_loss':'dev/last_tlu_loss',\n",
    "    'init_all_correct_epoch':'dev/init_all_correct_epoch'\n",
    "}"
   ]
  },
  {
   "cell_type": "code",
   "execution_count": 3,
   "metadata": {},
   "outputs": [],
   "source": [
    "for carries in [0,1,2,3,4,5,6,8,12]:\n",
    "    new_keys['last_digit-{}_accuracy'.format(carries)] = 'dev/last_digit-{}_accuracy'.format(carries)\n",
    "    new_keys['last_digit-{}_wrong'.format(carries)] = 'dev/last_digit-{}_wrong'.format(carries)\n",
    "    new_keys['last_carry-{}_accuracy'.format(carries)] = 'dev/last_carry-{}_accuracy'.format(carries)\n",
    "    new_keys['last_carry-{}_wrong'.format(carries)] = 'dev/last_carry-{}_wrong'.format(carries)\n",
    "    new_keys['last_carry-{}_mean_correct_answer_step'.format(carries)] = 'dev/last_carry-{}_mean_correct_answer_step'.format(carries)\n",
    "    new_keys['last_carry-{}_min_correct_answer_step'.format(carries)] = 'dev/last_carry-{}_min_correct_answer_step'.format(carries)\n",
    "    new_keys['last_carry-{}_max_correct_answer_step'.format(carries)] = 'dev/last_carry-{}_max_correct_answer_step'.format(carries)\n",
    "    new_keys['init_all_correct_digit-{}_epoch'.format(carries)] = 'dev/init_all_correct_digit-{}_epoch'.format(carries)\n",
    "    new_keys['init_complete_all_correct_digit-{}_epoch'.format(carries)] = 'dev/init_complete_all_correct_digit-{}_epoch'.format(carries)\n",
    "    new_keys['init_all_correct_carry-{}_epoch'.format(carries)] = 'dev/init_all_correct_carry-{}_epoch'.format(carries)\n",
    "    new_keys['init_complete_all_correct_carry-{}_epoch'.format(carries)] = 'dev/init_complete_all_correct_carry-{}_epoch'.format(carries)"
   ]
  },
  {
   "cell_type": "code",
   "execution_count": 4,
   "metadata": {},
   "outputs": [],
   "source": [
    "import run_info_utils"
   ]
  },
  {
   "cell_type": "code",
   "execution_count": 5,
   "metadata": {},
   "outputs": [],
   "source": [
    "experiment_names = run_info_utils.get_all_experiment_names()"
   ]
  },
  {
   "cell_type": "code",
   "execution_count": 6,
   "metadata": {},
   "outputs": [],
   "source": [
    "for experiment_name in experiment_names:\n",
    "    run_info_files =run_info_utils.get_all_run_info_files(experiment_name)\n",
    "    for run_info_path in run_info_files:\n",
    "        run_info = run_info_utils.read_run_info_file(run_info_path)\n",
    "        for old_key in new_keys.keys():\n",
    "            if old_key in run_info:\n",
    "                new_key = new_keys[old_key]\n",
    "                run_info[new_key] = run_info.pop(old_key)\n",
    "        run_info_utils.write_run_info_file(run_info, run_info_path)"
   ]
  }
 ],
 "metadata": {
  "kernelspec": {
   "display_name": "Python 3",
   "language": "python",
   "name": "python3"
  },
  "language_info": {
   "codemirror_mode": {
    "name": "ipython",
    "version": 3
   },
   "file_extension": ".py",
   "mimetype": "text/x-python",
   "name": "python",
   "nbconvert_exporter": "python",
   "pygments_lexer": "ipython3",
   "version": "3.5.2"
  }
 },
 "nbformat": 4,
 "nbformat_minor": 2
}
